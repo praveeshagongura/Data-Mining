{
 "cells": [
  {
   "cell_type": "code",
   "execution_count": 11,
   "id": "5ef97a04",
   "metadata": {},
   "outputs": [],
   "source": [
    "import pandas as pd\n",
    "\n",
    "# Load the CSV file into a pandas DataFrame\n",
    "# Replace 'your_dataset.csv' with the actual path to your CSV file\n",
    "df = pd.read_csv('/Users/praveesha/Desktop/IS733/lab/Lab2/ds_salaries.csv')"
   ]
  },
  {
   "cell_type": "code",
   "execution_count": 12,
   "id": "d272ab7e",
   "metadata": {},
   "outputs": [
    {
     "name": "stdout",
     "output_type": "stream",
     "text": [
      "    Serial Number         Column Name Data Type  Unique Values     Min  \\\n",
      "0               1           work_year     int64              4  2020.0   \n",
      "1               2    experience_level    object              4     NaN   \n",
      "2               3     employment_type    object              4     NaN   \n",
      "3               4           job_title    object             93     NaN   \n",
      "4               5              salary     int64            815  6000.0   \n",
      "5               6     salary_currency    object             20     NaN   \n",
      "6               7       salary_in_usd     int64           1035  5132.0   \n",
      "7               8  employee_residence    object             78     NaN   \n",
      "8               9        remote_ratio     int64              3     0.0   \n",
      "9              10    company_location    object             72     NaN   \n",
      "10             11        company_size    object              3     NaN   \n",
      "\n",
      "           Max  \n",
      "0       2023.0  \n",
      "1          NaN  \n",
      "2          NaN  \n",
      "3          NaN  \n",
      "4   30400000.0  \n",
      "5          NaN  \n",
      "6     450000.0  \n",
      "7          NaN  \n",
      "8        100.0  \n",
      "9          NaN  \n",
      "10         NaN  \n"
     ]
    }
   ],
   "source": [
    "# Initialize a list to store profile information\n",
    "profile_data = []\n",
    "\n",
    "# Iterate through each column in the DataFrame\n",
    "for i, col in enumerate(df.columns):\n",
    "    col_data = {}\n",
    "    col_data['Serial Number'] = i + 1\n",
    "    col_data['Column Name'] = col\n",
    "    col_data['Data Type'] = df[col].dtype\n",
    "    col_data['Unique Values'] = df[col].nunique()\n",
    "\n",
    "    if pd.api.types.is_numeric_dtype(df[col]):\n",
    "        col_data['Min'] = df[col].min()\n",
    "        col_data['Max'] = df[col].max()\n",
    "    else:\n",
    "        col_data['Min'] = None\n",
    "        col_data['Max'] = None\n",
    "\n",
    "    profile_data.append(col_data)\n",
    "\n",
    "# Create a DataFrame for the profile table\n",
    "profile_df = pd.DataFrame(profile_data)\n",
    "\n",
    "# Display the profile table\n",
    "print(profile_df)\n",
    "\n",
    "# Optionally, save the profile table to a CSV\n",
    "profile_df.to_csv('profile_table.csv', index=False)\n",
    "\n"
   ]
  },
  {
   "cell_type": "code",
   "execution_count": 13,
   "id": "ece7dc2e",
   "metadata": {},
   "outputs": [
    {
     "data": {
      "text/plain": [
       "array(['SE', 'MI', 'EN', 'EX'], dtype=object)"
      ]
     },
     "execution_count": 13,
     "metadata": {},
     "output_type": "execute_result"
    }
   ],
   "source": [
    "df['experience_level'].unique()"
   ]
  },
  {
   "cell_type": "code",
   "execution_count": 14,
   "id": "f66f0167",
   "metadata": {},
   "outputs": [
    {
     "name": "stdout",
     "output_type": "stream",
     "text": [
      "  experience_level  experience_level_encoded\n",
      "0               SE                         0\n",
      "1               MI                         1\n",
      "2               MI                         1\n",
      "3               SE                         0\n",
      "4               SE                         0\n"
     ]
    }
   ],
   "source": [
    "# Perform label encoding on the experience_level column\n",
    "experience_mapping = {'SE': 0, 'MI': 1, 'EN': 2, 'EX': 3}\n",
    "df['experience_level_encoded'] = df['experience_level'].map(experience_mapping)\n",
    "\n",
    "# Display the first few rows to verify the encoding\n",
    "print(df[['experience_level', 'experience_level_encoded']].head())\n",
    "\n",
    "# Optionally, save the encoded dataset to a CSV\n",
    "df.to_csv('encoded_dataset.csv', index=False)\n"
   ]
  },
  {
   "cell_type": "code",
   "execution_count": 15,
   "id": "5c373041",
   "metadata": {},
   "outputs": [
    {
     "name": "stdout",
     "output_type": "stream",
     "text": [
      "  company_size  company_size_encoded\n",
      "0            L                     2\n",
      "1            S                     0\n",
      "2            S                     0\n",
      "3            M                     1\n",
      "4            M                     1\n"
     ]
    }
   ],
   "source": [
    "# Perform label encoding on the company_size column\n",
    "company_size_mapping = {'S': 0, 'M': 1, 'L': 2}\n",
    "df['company_size_encoded'] = df['company_size'].map(company_size_mapping)\n",
    "\n",
    "# Display the first few rows to verify the encoding\n",
    "print(df[['company_size', 'company_size_encoded']].head())\n",
    "\n",
    "# Optionally, save the encoded dataset to a CSV\n",
    "df.to_csv('encoded_dataset.csv', index=False)\n"
   ]
  },
  {
   "cell_type": "code",
   "execution_count": 16,
   "id": "8b2ca222",
   "metadata": {},
   "outputs": [
    {
     "name": "stdout",
     "output_type": "stream",
     "text": [
      "   company_size\n",
      "0             2\n",
      "1             0\n",
      "2             0\n",
      "3             1\n",
      "4             1\n"
     ]
    }
   ],
   "source": [
    "# Replace the original company_size column with the encoded values\n",
    "df['company_size'] = df['company_size'].map(company_size_mapping)\n",
    "\n",
    "# Display the first few rows to verify the encoding\n",
    "print(df[['company_size']].head())\n"
   ]
  },
  {
   "cell_type": "code",
   "execution_count": null,
   "id": "45dab3c9",
   "metadata": {},
   "outputs": [],
   "source": []
  }
 ],
 "metadata": {
  "kernelspec": {
   "display_name": "Python 3 (ipykernel)",
   "language": "python",
   "name": "python3"
  },
  "language_info": {
   "codemirror_mode": {
    "name": "ipython",
    "version": 3
   },
   "file_extension": ".py",
   "mimetype": "text/x-python",
   "name": "python",
   "nbconvert_exporter": "python",
   "pygments_lexer": "ipython3",
   "version": "3.9.7"
  }
 },
 "nbformat": 4,
 "nbformat_minor": 5
}
